{
 "cells": [
  {
   "cell_type": "code",
   "execution_count": 1,
   "id": "8d8f9c67-4db3-4488-85c4-44c75c4152ea",
   "metadata": {},
   "outputs": [],
   "source": [
    "from qiskit_ibm_runtime import QiskitRuntimeService"
   ]
  },
  {
   "cell_type": "code",
   "execution_count": 2,
   "id": "eaecbe5a-6333-4e07-b6a4-c3b7c4e2d494",
   "metadata": {},
   "outputs": [],
   "source": [
    "QiskitRuntimeService.save_account(channel=\"ibm_quantum\", token=\"f5bd8a8ee8daee8d79e09892e2d404f6cebb47ec40ae2a6c71da98921b1f2779607b015545600085db55b5bd84982ac66728f252b98f14a12bfb43a375766231\")"
   ]
  },
  {
   "cell_type": "code",
   "execution_count": 3,
   "id": "470797ad-e70f-4ff2-a6d1-5ff799af1d6a",
   "metadata": {},
   "outputs": [
    {
     "name": "stdout",
     "output_type": "stream",
     "text": [
      "[<IBMBackend('ibm_brisbane')>, <IBMBackend('ibm_kyoto')>, <IBMBackend('ibm_osaka')>]\n"
     ]
    }
   ],
   "source": [
    "service = QiskitRuntimeService(instance='ibm-q/open/main')\n",
    "backends = service.backends(simulator=False, min_num_qubits=5)\n",
    "print(backends)"
   ]
  },
  {
   "cell_type": "code",
   "execution_count": 4,
   "id": "2bed2978-656d-4a9e-af5f-9b4184d78122",
   "metadata": {},
   "outputs": [
    {
     "name": "stderr",
     "output_type": "stream",
     "text": [
      "C:\\Users\\Maxwell\\anaconda3\\envs\\qiskit-runtime\\lib\\site-packages\\qiskit\\visualization\\circuit\\matplotlib.py:266: FutureWarning: The default matplotlib drawer scheme will be changed to \"iqp\" in a following release. To silence this warning, specify the current default explicitly as style=\"clifford\", or the new default as style=\"iqp\".\n",
      "  self._style, def_font_ratio = load_style(self._style)\n"
     ]
    },
    {
     "data": {
      "image/png": "[encoded data removed]",
      "text/plain": [
       "<Figure size 580.387x284.278 with 1 Axes>"
      ]
     },
     "execution_count": 4,
     "metadata": {},
     "output_type": "execute_result"
    }
   ],
   "source": [
    "from qiskit import QuantumCircuit\n",
    "qc = QuantumCircuit(2)\n",
    "qc.h(0)\n",
    "qc.cx(0, 1)\n",
    "qc.measure_all()\n",
    "\n",
    "qc.draw('mpl')"
   ]
  },
  {
   "cell_type": "code",
   "execution_count": 5,
   "id": "0db783ec-95e2-47d6-9557-76e2a4bdcb76",
   "metadata": {},
   "outputs": [],
   "source": [
    "import qiskit"
   ]
  },
  {
   "cell_type": "code",
   "execution_count": 7,
   "id": "038222a3-2e93-4a96-90b7-f30b21aa0d90",
   "metadata": {},
   "outputs": [
    {
     "data": {
      "text/plain": [
       "{'qiskit': '0.46.0', 'qiskit-aer': None, 'qiskit-ignis': None, 'qiskit-ibmq-provider': None, 'qiskit-nature': None, 'qiskit-finance': None, 'qiskit-optimization': None, 'qiskit-machine-learning': None}"
      ]
     },
     "execution_count": 7,
     "metadata": {},
     "output_type": "execute_result"
    }
   ],
   "source": [
    "qiskit.__qiskit_version__"
   ]
  },
  {
   "cell_type": "code",
   "execution_count": 8,
   "id": "77ef753b-3ee6-4734-8443-9e687336c1c9",
   "metadata": {},
   "outputs": [
    {
     "name": "stderr",
     "output_type": "stream",
     "text": [
      "C:\\Users\\Maxwell\\AppData\\Local\\Temp\\ipykernel_5716\\2133534239.py:1: DeprecationWarning: The qiskit.IBMQ entrypoint and the qiskit-ibmq-provider package (accessible from 'qiskit.providers.ibmq`) are deprecated and will be removed in a future release. Instead you should use the qiskit-ibm-provider package which is accessible from 'qiskit_ibm_provider'. You can install it with 'pip install qiskit_ibm_provider'. Just replace 'qiskit.IBMQ' with 'qiskit_ibm_provider.IBMProvider'\n",
      "  qiskit.IBMQ.save_account('f5bd8a8ee8daee8d79e09892e2d404f6cebb47ec40ae2a6c71da98921b1f2779607b015545600085db55b5bd84982ac66728f252b98f14a12bfb43a375766231')\n"
     ]
    },
    {
     "ename": "MissingOptionalLibraryError",
     "evalue": "\"The 'qiskit-ibmq-provider' library is required to use 'IBMQ provider'. You can install it with 'pip install qiskit-ibmq-provider'.\"",
     "output_type": "error",
     "traceback": [
      "\u001b[1;31m---------------------------------------------------------------------------\u001b[0m",
      "\u001b[1;31mImportError\u001b[0m                               Traceback (most recent call last)",
      "File \u001b[1;32m~\\anaconda3\\envs\\qiskit-runtime\\lib\\site-packages\\qiskit\\__init__.py:200\u001b[0m, in \u001b[0;36mIBMQWrapper.__getattr__\u001b[1;34m(self, attr)\u001b[0m\n\u001b[0;32m    199\u001b[0m \u001b[38;5;28;01mtry\u001b[39;00m:\n\u001b[1;32m--> 200\u001b[0m     \u001b[38;5;28;01mfrom\u001b[39;00m \u001b[38;5;21;01mqiskit\u001b[39;00m\u001b[38;5;21;01m.\u001b[39;00m\u001b[38;5;21;01mproviders\u001b[39;00m \u001b[38;5;28;01mimport\u001b[39;00m ibmq\n\u001b[0;32m    202\u001b[0m     \u001b[38;5;28mself\u001b[39m\u001b[38;5;241m.\u001b[39mibmq \u001b[38;5;241m=\u001b[39m ibmq\u001b[38;5;241m.\u001b[39mIBMQ\n",
      "\u001b[1;31mImportError\u001b[0m: cannot import name 'ibmq' from 'qiskit.providers' (C:\\Users\\Maxwell\\anaconda3\\envs\\qiskit-runtime\\lib\\site-packages\\qiskit\\providers\\__init__.py)",
      "\nThe above exception was the direct cause of the following exception:\n",
      "\u001b[1;31mMissingOptionalLibraryError\u001b[0m               Traceback (most recent call last)",
      "Cell \u001b[1;32mIn[8], line 1\u001b[0m\n\u001b[1;32m----> 1\u001b[0m \u001b[43mqiskit\u001b[49m\u001b[38;5;241;43m.\u001b[39;49m\u001b[43mIBMQ\u001b[49m\u001b[38;5;241;43m.\u001b[39;49m\u001b[43msave_account\u001b[49m(\u001b[38;5;124m'\u001b[39m\u001b[38;5;124mf5bd8a8ee8daee8d79e09892e2d404f6cebb47ec40ae2a6c71da98921b1f2779607b015545600085db55b5bd84982ac66728f252b98f14a12bfb43a375766231\u001b[39m\u001b[38;5;124m'\u001b[39m)\n",
      "File \u001b[1;32m~\\anaconda3\\envs\\qiskit-runtime\\lib\\site-packages\\qiskit\\__init__.py:204\u001b[0m, in \u001b[0;36mIBMQWrapper.__getattr__\u001b[1;34m(self, attr)\u001b[0m\n\u001b[0;32m    202\u001b[0m         \u001b[38;5;28mself\u001b[39m\u001b[38;5;241m.\u001b[39mibmq \u001b[38;5;241m=\u001b[39m ibmq\u001b[38;5;241m.\u001b[39mIBMQ\n\u001b[0;32m    203\u001b[0m     \u001b[38;5;28;01mexcept\u001b[39;00m \u001b[38;5;167;01mImportError\u001b[39;00m \u001b[38;5;28;01mas\u001b[39;00m ex:\n\u001b[1;32m--> 204\u001b[0m         \u001b[38;5;28;01mraise\u001b[39;00m MissingOptionalLibraryError(\n\u001b[0;32m    205\u001b[0m             \u001b[38;5;124m\"\u001b[39m\u001b[38;5;124mqiskit-ibmq-provider\u001b[39m\u001b[38;5;124m\"\u001b[39m, \u001b[38;5;124m\"\u001b[39m\u001b[38;5;124mIBMQ provider\u001b[39m\u001b[38;5;124m\"\u001b[39m, \u001b[38;5;124m\"\u001b[39m\u001b[38;5;124mpip install qiskit-ibmq-provider\u001b[39m\u001b[38;5;124m\"\u001b[39m\n\u001b[0;32m    206\u001b[0m         ) \u001b[38;5;28;01mfrom\u001b[39;00m \u001b[38;5;21;01mex\u001b[39;00m\n\u001b[0;32m    207\u001b[0m \u001b[38;5;28;01mreturn\u001b[39;00m \u001b[38;5;28mgetattr\u001b[39m(\u001b[38;5;28mself\u001b[39m\u001b[38;5;241m.\u001b[39mibmq, attr)\n",
      "\u001b[1;31mMissingOptionalLibraryError\u001b[0m: \"The 'qiskit-ibmq-provider' library is required to use 'IBMQ provider'. You can install it with 'pip install qiskit-ibmq-provider'.\""
     ]
    }
   ],
   "source": [
    "qiskit.IBMQ.save_account('f5bd8a8ee8daee8d79e09892e2d404f6cebb47ec40ae2a6c71da98921b1f2779607b015545600085db55b5bd84982ac66728f252b98f14a12bfb43a375766231')"
   ]
  },
  {
   "cell_type": "code",
   "execution_count": 9,
   "id": "bba87e5d-0805-4943-9320-fa9a897b5a31",
   "metadata": {},
   "outputs": [],
   "source": [
    "from qiskit import IBMQ"
   ]
  },
  {
   "cell_type": "code",
   "execution_count": 10,
   "id": "bd88956a-12bf-4aaf-b892-9cb6e42d8441",
   "metadata": {},
   "outputs": [
    {
     "name": "stderr",
     "output_type": "stream",
     "text": [
      "C:\\Users\\Maxwell\\AppData\\Local\\Temp\\ipykernel_5716\\206293696.py:1: DeprecationWarning: The qiskit.IBMQ entrypoint and the qiskit-ibmq-provider package (accessible from 'qiskit.providers.ibmq`) are deprecated and will be removed in a future release. Instead you should use the qiskit-ibm-provider package which is accessible from 'qiskit_ibm_provider'. You can install it with 'pip install qiskit_ibm_provider'. Just replace 'qiskit.IBMQ' with 'qiskit_ibm_provider.IBMProvider'\n",
      "  IBMQ.save_account('f5bd8a8ee8daee8d79e09892e2d404f6cebb47ec40ae2a6c71da98921b1f2779607b015545600085db55b5bd84982ac66728f252b98f14a12bfb43a375766231')\n"
     ]
    },
    {
     "ename": "MissingOptionalLibraryError",
     "evalue": "\"The 'qiskit-ibmq-provider' library is required to use 'IBMQ provider'. You can install it with 'pip install qiskit-ibmq-provider'.\"",
     "output_type": "error",
     "traceback": [
      "\u001b[1;31m---------------------------------------------------------------------------\u001b[0m",
      "\u001b[1;31mImportError\u001b[0m                               Traceback (most recent call last)",
      "File \u001b[1;32m~\\anaconda3\\envs\\qiskit-runtime\\lib\\site-packages\\qiskit\\__init__.py:200\u001b[0m, in \u001b[0;36mIBMQWrapper.__getattr__\u001b[1;34m(self, attr)\u001b[0m\n\u001b[0;32m    199\u001b[0m \u001b[38;5;28;01mtry\u001b[39;00m:\n\u001b[1;32m--> 200\u001b[0m     \u001b[38;5;28;01mfrom\u001b[39;00m \u001b[38;5;21;01mqiskit\u001b[39;00m\u001b[38;5;21;01m.\u001b[39;00m\u001b[38;5;21;01mproviders\u001b[39;00m \u001b[38;5;28;01mimport\u001b[39;00m ibmq\n\u001b[0;32m    202\u001b[0m     \u001b[38;5;28mself\u001b[39m\u001b[38;5;241m.\u001b[39mibmq \u001b[38;5;241m=\u001b[39m ibmq\u001b[38;5;241m.\u001b[39mIBMQ\n",
      "\u001b[1;31mImportError\u001b[0m: cannot import name 'ibmq' from 'qiskit.providers' (C:\\Users\\Maxwell\\anaconda3\\envs\\qiskit-runtime\\lib\\site-packages\\qiskit\\providers\\__init__.py)",
      "\nThe above exception was the direct cause of the following exception:\n",
      "\u001b[1;31mMissingOptionalLibraryError\u001b[0m               Traceback (most recent call last)",
      "Cell \u001b[1;32mIn[10], line 1\u001b[0m\n\u001b[1;32m----> 1\u001b[0m \u001b[43mIBMQ\u001b[49m\u001b[38;5;241;43m.\u001b[39;49m\u001b[43msave_account\u001b[49m(\u001b[38;5;124m'\u001b[39m\u001b[38;5;124mf5bd8a8ee8daee8d79e09892e2d404f6cebb47ec40ae2a6c71da98921b1f2779607b015545600085db55b5bd84982ac66728f252b98f14a12bfb43a375766231\u001b[39m\u001b[38;5;124m'\u001b[39m)\n",
      "File \u001b[1;32m~\\anaconda3\\envs\\qiskit-runtime\\lib\\site-packages\\qiskit\\__init__.py:204\u001b[0m, in \u001b[0;36mIBMQWrapper.__getattr__\u001b[1;34m(self, attr)\u001b[0m\n\u001b[0;32m    202\u001b[0m         \u001b[38;5;28mself\u001b[39m\u001b[38;5;241m.\u001b[39mibmq \u001b[38;5;241m=\u001b[39m ibmq\u001b[38;5;241m.\u001b[39mIBMQ\n\u001b[0;32m    203\u001b[0m     \u001b[38;5;28;01mexcept\u001b[39;00m \u001b[38;5;167;01mImportError\u001b[39;00m \u001b[38;5;28;01mas\u001b[39;00m ex:\n\u001b[1;32m--> 204\u001b[0m         \u001b[38;5;28;01mraise\u001b[39;00m MissingOptionalLibraryError(\n\u001b[0;32m    205\u001b[0m             \u001b[38;5;124m\"\u001b[39m\u001b[38;5;124mqiskit-ibmq-provider\u001b[39m\u001b[38;5;124m\"\u001b[39m, \u001b[38;5;124m\"\u001b[39m\u001b[38;5;124mIBMQ provider\u001b[39m\u001b[38;5;124m\"\u001b[39m, \u001b[38;5;124m\"\u001b[39m\u001b[38;5;124mpip install qiskit-ibmq-provider\u001b[39m\u001b[38;5;124m\"\u001b[39m\n\u001b[0;32m    206\u001b[0m         ) \u001b[38;5;28;01mfrom\u001b[39;00m \u001b[38;5;21;01mex\u001b[39;00m\n\u001b[0;32m    207\u001b[0m \u001b[38;5;28;01mreturn\u001b[39;00m \u001b[38;5;28mgetattr\u001b[39m(\u001b[38;5;28mself\u001b[39m\u001b[38;5;241m.\u001b[39mibmq, attr)\n",
      "\u001b[1;31mMissingOptionalLibraryError\u001b[0m: \"The 'qiskit-ibmq-provider' library is required to use 'IBMQ provider'. You can install it with 'pip install qiskit-ibmq-provider'.\""
     ]
    }
   ],
   "source": [
    "IBMQ.save_account('f5bd8a8ee8daee8d79e09892e2d404f6cebb47ec40ae2a6c71da98921b1f2779607b015545600085db55b5bd84982ac66728f252b98f14a12bfb43a375766231')"
   ]
  },
  {
   "cell_type": "code",
   "execution_count": 11,
   "id": "33f1ec86-f384-46b6-a831-ae3cd5768e8c",
   "metadata": {},
   "outputs": [
    {
     "name": "stdout",
     "output_type": "stream",
     "text": [
      "Collecting qiskit-ibmq-provider\n",
      "  Downloading qiskit_ibmq_provider-0.20.2-py3-none-any.whl (241 kB)\n",
      "     ---------------------------------------- 0.0/241.5 kB ? eta -:--:--\n",
      "     --------- ----------------------------- 61.4/241.5 kB 1.7 MB/s eta 0:00:01\n",
      "     -------------- ------------------------ 92.2/241.5 kB 1.3 MB/s eta 0:00:01\n",
      "     ---------------------- --------------- 143.4/241.5 kB 1.1 MB/s eta 0:00:01\n",
      "     -------------------------------------- 241.5/241.5 kB 1.3 MB/s eta 0:00:00\n",
      "Requirement already satisfied: qiskit-terra>=0.18.0 in c:\\users\\maxwell\\anaconda3\\envs\\qiskit-runtime\\lib\\site-packages (from qiskit-ibmq-provider) (0.46.0)\n",
      "Requirement already satisfied: requests>=2.19 in c:\\users\\maxwell\\anaconda3\\envs\\qiskit-runtime\\lib\\site-packages (from qiskit-ibmq-provider) (2.31.0)\n",
      "Collecting requests-ntlm<=1.1.0 (from qiskit-ibmq-provider)\n",
      "  Downloading requests_ntlm-1.1.0-py2.py3-none-any.whl (5.7 kB)\n",
      "Collecting numpy<1.24 (from qiskit-ibmq-provider)\n",
      "  Downloading numpy-1.23.5-cp310-cp310-win_amd64.whl (14.6 MB)\n",
      "     ---------------------------------------- 0.0/14.6 MB ? eta -:--:--\n",
      "      --------------------------------------- 0.3/14.6 MB 8.9 MB/s eta 0:00:02\n",
      "     - -------------------------------------- 0.7/14.6 MB 8.7 MB/s eta 0:00:02\n",
      "     -- ------------------------------------- 1.1/14.6 MB 8.4 MB/s eta 0:00:02\n",
      "     ---- ----------------------------------- 1.5/14.6 MB 9.6 MB/s eta 0:00:02\n",
      "     ----- ---------------------------------- 2.2/14.6 MB 9.9 MB/s eta 0:00:02\n",
      "     ------- -------------------------------- 2.6/14.6 MB 9.9 MB/s eta 0:00:02\n",
      "     ------- -------------------------------- 2.6/14.6 MB 9.9 MB/s eta 0:00:02\n",
      "     ---------- ----------------------------- 3.7/14.6 MB 10.3 MB/s eta 0:00:02\n",
      "     ---------- ----------------------------- 3.9/14.6 MB 9.6 MB/s eta 0:00:02\n",
      "     ----------- ---------------------------- 4.1/14.6 MB 9.0 MB/s eta 0:00:02\n",
      "     ----------- ---------------------------- 4.1/14.6 MB 9.0 MB/s eta 0:00:02\n",
      "     ----------- ---------------------------- 4.1/14.6 MB 9.0 MB/s eta 0:00:02\n",
      "     ---------------- ----------------------- 6.2/14.6 MB 10.7 MB/s eta 0:00:01\n",
      "     ------------------ --------------------- 6.7/14.6 MB 10.7 MB/s eta 0:00:01\n",
      "     ------------------ --------------------- 6.8/14.6 MB 9.9 MB/s eta 0:00:01\n",
      "     -------------------- ------------------- 7.3/14.6 MB 10.4 MB/s eta 0:00:01\n",
      "     -------------------- ------------------- 7.6/14.6 MB 10.1 MB/s eta 0:00:01\n",
      "     ----------------------- ---------------- 8.5/14.6 MB 10.3 MB/s eta 0:00:01\n",
      "     ----------------------- ---------------- 8.7/14.6 MB 10.1 MB/s eta 0:00:01\n",
      "     ------------------------- -------------- 9.3/14.6 MB 10.1 MB/s eta 0:00:01\n",
      "     ------------------------- -------------- 9.4/14.6 MB 10.1 MB/s eta 0:00:01\n",
      "     ------------------------- -------------- 9.4/14.6 MB 9.4 MB/s eta 0:00:01\n",
      "     ---------------------------- ----------- 10.3/14.6 MB 9.6 MB/s eta 0:00:01\n",
      "     ---------------------------- ----------- 10.4/14.6 MB 9.5 MB/s eta 0:00:01\n",
      "     ---------------------------- ----------- 10.5/14.6 MB 9.2 MB/s eta 0:00:01\n",
      "     ----------------------------- ---------- 10.8/14.6 MB 9.2 MB/s eta 0:00:01\n",
      "     ------------------------------- -------- 11.4/14.6 MB 9.4 MB/s eta 0:00:01\n",
      "     -------------------------------- ------- 11.8/14.6 MB 9.5 MB/s eta 0:00:01\n",
      "     -------------------------------- ------- 11.9/14.6 MB 9.1 MB/s eta 0:00:01\n",
      "     -------------------------------- ------- 12.0/14.6 MB 8.7 MB/s eta 0:00:01\n",
      "     --------------------------------- ------ 12.1/14.6 MB 8.6 MB/s eta 0:00:01\n",
      "     ------------------------------------ --- 13.2/14.6 MB 9.1 MB/s eta 0:00:01\n",
      "     ------------------------------------ --- 13.3/14.6 MB 8.6 MB/s eta 0:00:01\n",
      "     ------------------------------------ --- 13.5/14.6 MB 8.3 MB/s eta 0:00:01\n",
      "     ------------------------------------- -- 13.7/14.6 MB 8.1 MB/s eta 0:00:01\n",
      "     ------------------------------------- -- 13.7/14.6 MB 8.1 MB/s eta 0:00:01\n",
      "     -------------------------------------- - 14.1/14.6 MB 8.0 MB/s eta 0:00:01\n",
      "     ---------------------------------------  14.5/14.6 MB 8.7 MB/s eta 0:00:01\n",
      "     ---------------------------------------  14.5/14.6 MB 8.5 MB/s eta 0:00:01\n",
      "     ---------------------------------------  14.6/14.6 MB 8.0 MB/s eta 0:00:01\n",
      "     ---------------------------------------- 14.6/14.6 MB 7.7 MB/s eta 0:00:00\n",
      "Requirement already satisfied: urllib3>=1.21.1 in c:\\users\\maxwell\\anaconda3\\envs\\qiskit-runtime\\lib\\site-packages (from qiskit-ibmq-provider) (2.2.0)\n",
      "Requirement already satisfied: python-dateutil>=2.8.0 in c:\\users\\maxwell\\anaconda3\\envs\\qiskit-runtime\\lib\\site-packages (from qiskit-ibmq-provider) (2.8.2)\n",
      "Requirement already satisfied: websocket-client>=1.5.1 in c:\\users\\maxwell\\anaconda3\\envs\\qiskit-runtime\\lib\\site-packages (from qiskit-ibmq-provider) (1.7.0)\n",
      "Requirement already satisfied: websockets>=10.0 in c:\\users\\maxwell\\anaconda3\\envs\\qiskit-runtime\\lib\\site-packages (from qiskit-ibmq-provider) (12.0)\n",
      "Requirement already satisfied: six>=1.5 in c:\\users\\maxwell\\anaconda3\\envs\\qiskit-runtime\\lib\\site-packages (from python-dateutil>=2.8.0->qiskit-ibmq-provider) (1.16.0)\n",
      "Requirement already satisfied: rustworkx>=0.13.0 in c:\\users\\maxwell\\anaconda3\\envs\\qiskit-runtime\\lib\\site-packages (from qiskit-terra>=0.18.0->qiskit-ibmq-provider) (0.14.0)\n",
      "Requirement already satisfied: ply>=3.10 in c:\\users\\maxwell\\anaconda3\\envs\\qiskit-runtime\\lib\\site-packages (from qiskit-terra>=0.18.0->qiskit-ibmq-provider) (3.11)\n",
      "Requirement already satisfied: psutil>=5 in c:\\users\\maxwell\\anaconda3\\envs\\qiskit-runtime\\lib\\site-packages (from qiskit-terra>=0.18.0->qiskit-ibmq-provider) (5.9.8)\n",
      "Requirement already satisfied: scipy>=1.5 in c:\\users\\maxwell\\anaconda3\\envs\\qiskit-runtime\\lib\\site-packages (from qiskit-terra>=0.18.0->qiskit-ibmq-provider) (1.12.0)\n",
      "Requirement already satisfied: sympy>=1.3 in c:\\users\\maxwell\\anaconda3\\envs\\qiskit-runtime\\lib\\site-packages (from qiskit-terra>=0.18.0->qiskit-ibmq-provider) (1.12)\n",
      "Requirement already satisfied: dill>=0.3 in c:\\users\\maxwell\\anaconda3\\envs\\qiskit-runtime\\lib\\site-packages (from qiskit-terra>=0.18.0->qiskit-ibmq-provider) (0.3.8)\n",
      "Requirement already satisfied: stevedore>=3.0.0 in c:\\users\\maxwell\\anaconda3\\envs\\qiskit-runtime\\lib\\site-packages (from qiskit-terra>=0.18.0->qiskit-ibmq-provider) (5.1.0)\n",
      "Requirement already satisfied: typing-extensions in c:\\users\\maxwell\\anaconda3\\envs\\qiskit-runtime\\lib\\site-packages (from qiskit-terra>=0.18.0->qiskit-ibmq-provider) (4.9.0)\n",
      "Requirement already satisfied: charset-normalizer<4,>=2 in c:\\users\\maxwell\\anaconda3\\envs\\qiskit-runtime\\lib\\site-packages (from requests>=2.19->qiskit-ibmq-provider) (3.3.2)\n",
      "Requirement already satisfied: idna<4,>=2.5 in c:\\users\\maxwell\\anaconda3\\envs\\qiskit-runtime\\lib\\site-packages (from requests>=2.19->qiskit-ibmq-provider) (3.6)\n",
      "Requirement already satisfied: certifi>=2017.4.17 in c:\\users\\maxwell\\anaconda3\\envs\\qiskit-runtime\\lib\\site-packages (from requests>=2.19->qiskit-ibmq-provider) (2024.2.2)\n",
      "Collecting ntlm-auth>=1.0.2 (from requests-ntlm<=1.1.0->qiskit-ibmq-provider)\n",
      "  Downloading ntlm_auth-1.5.0-py2.py3-none-any.whl (29 kB)\n",
      "Requirement already satisfied: cryptography>=1.3 in c:\\users\\maxwell\\anaconda3\\envs\\qiskit-runtime\\lib\\site-packages (from requests-ntlm<=1.1.0->qiskit-ibmq-provider) (42.0.2)\n",
      "Requirement already satisfied: cffi>=1.12 in c:\\users\\maxwell\\anaconda3\\envs\\qiskit-runtime\\lib\\site-packages (from cryptography>=1.3->requests-ntlm<=1.1.0->qiskit-ibmq-provider) (1.16.0)\n",
      "Requirement already satisfied: pbr!=2.1.0,>=2.0.0 in c:\\users\\maxwell\\anaconda3\\envs\\qiskit-runtime\\lib\\site-packages (from stevedore>=3.0.0->qiskit-terra>=0.18.0->qiskit-ibmq-provider) (6.0.0)\n",
      "Requirement already satisfied: mpmath>=0.19 in c:\\users\\maxwell\\anaconda3\\envs\\qiskit-runtime\\lib\\site-packages (from sympy>=1.3->qiskit-terra>=0.18.0->qiskit-ibmq-provider) (1.3.0)\n",
      "Requirement already satisfied: pycparser in c:\\users\\maxwell\\anaconda3\\envs\\qiskit-runtime\\lib\\site-packages (from cffi>=1.12->cryptography>=1.3->requests-ntlm<=1.1.0->qiskit-ibmq-provider) (2.21)\n",
      "Installing collected packages: numpy, ntlm-auth, requests-ntlm, qiskit-ibmq-provider\n",
      "  Attempting uninstall: numpy\n",
      "    Found existing installation: numpy 1.26.3\n",
      "    Uninstalling numpy-1.26.3:\n",
      "      Successfully uninstalled numpy-1.26.3\n",
      "  Attempting uninstall: requests-ntlm\n",
      "    Found existing installation: requests-ntlm 1.2.0\n",
      "    Uninstalling requests-ntlm-1.2.0:\n",
      "      Successfully uninstalled requests-ntlm-1.2.0\n",
      "Successfully installed ntlm-auth-1.5.0 numpy-1.23.5 qiskit-ibmq-provider-0.20.2 requests-ntlm-1.1.0\n",
      "Note: you may need to restart the kernel to use updated packages.\n"
     ]
    },
    {
     "name": "stderr",
     "output_type": "stream",
     "text": [
      "  WARNING: Failed to remove contents in a temporary directory 'C:\\Users\\Maxwell\\anaconda3\\envs\\qiskit-runtime\\Lib\\site-packages\\~umpy.libs'.\n",
      "  You can safely remove it manually.\n",
      "  WARNING: Failed to remove contents in a temporary directory 'C:\\Users\\Maxwell\\anaconda3\\envs\\qiskit-runtime\\Lib\\site-packages\\~umpy'.\n",
      "  You can safely remove it manually.\n"
     ]
    }
   ],
   "source": [
    "pip install qiskit-ibmq-provider"
   ]
  },
  {
   "cell_type": "code",
   "execution_count": 12,
   "id": "bdda2795-d0b7-4f98-aa01-f9e812ab3bcb",
   "metadata": {},
   "outputs": [
    {
     "name": "stderr",
     "output_type": "stream",
     "text": [
      "C:\\Users\\Maxwell\\AppData\\Local\\Temp\\ipykernel_5716\\206293696.py:1: DeprecationWarning: The qiskit.IBMQ entrypoint and the qiskit-ibmq-provider package (accessible from 'qiskit.providers.ibmq`) are deprecated and will be removed in a future release. Instead you should use the qiskit-ibm-provider package which is accessible from 'qiskit_ibm_provider'. You can install it with 'pip install qiskit_ibm_provider'. Just replace 'qiskit.IBMQ' with 'qiskit_ibm_provider.IBMProvider'\n",
      "  IBMQ.save_account('f5bd8a8ee8daee8d79e09892e2d404f6cebb47ec40ae2a6c71da98921b1f2779607b015545600085db55b5bd84982ac66728f252b98f14a12bfb43a375766231')\n",
      "C:\\Users\\Maxwell\\AppData\\Local\\Temp\\ipykernel_5716\\206293696.py:1: DeprecationWarning: The package qiskit.providers.ibmq is being deprecated. Please see https://ibm.biz/provider_migration_guide to get instructions on how to migrate to qiskit-ibm-provider (https://github.com/Qiskit/qiskit-ibm-provider) and qiskit-ibm-runtime (https://github.com/Qiskit/qiskit-ibm-runtime).\n",
      "  IBMQ.save_account('f5bd8a8ee8daee8d79e09892e2d404f6cebb47ec40ae2a6c71da98921b1f2779607b015545600085db55b5bd84982ac66728f252b98f14a12bfb43a375766231')\n"
     ]
    }
   ],
   "source": [
    "IBMQ.save_account('f5bd8a8ee8daee8d79e09892e2d404f6cebb47ec40ae2a6c71da98921b1f2779607b015545600085db55b5bd84982ac66728f252b98f14a12bfb43a375766231')"
   ]
  },
  {
   "cell_type": "code",
   "execution_count": 15,
   "id": "2cd74a12-1ca1-4cfb-9d13-017f8eb547b1",
   "metadata": {},
   "outputs": [],
   "source": [
    "import qiskit_ibm_provider\n",
    "qiskit_ibm_provider.IBMProvider.save_account('f5bd8a8ee8daee8d79e09892e2d404f6cebb47ec40ae2a6c71da98921b1f2779607b015545600085db55b5bd84982ac66728f252b98f14a12bfb43a375766231', overwrite='True')"
   ]
  },
  {
   "cell_type": "code",
   "execution_count": 16,
   "id": "1f420dd0-8457-4d4c-8076-7ed4e94a95c5",
   "metadata": {},
   "outputs": [
    {
     "data": {
      "text/plain": [
       "<AccountProvider for IBMQ(hub='ibm-q', group='open', project='main')>"
      ]
     },
     "execution_count": 16,
     "metadata": {},
     "output_type": "execute_result"
    }
   ],
   "source": [
    "IBMQ.load_account()"
   ]
  },
  {
   "cell_type": "code",
   "execution_count": null,
   "id": "8e04e125-5d51-416b-ab02-82d8599d2c2c",
   "metadata": {},
   "outputs": [],
   "source": []
  }
 ],
 "metadata": {
  "kernelspec": {
   "display_name": "Python 3 (ipykernel)",
   "language": "python",
   "name": "python3"
  },
  "language_info": {
   "codemirror_mode": {
    "name": "ipython",
    "version": 3
   },
   "file_extension": ".py",
   "mimetype": "text/x-python",
   "name": "python",
   "nbconvert_exporter": "python",
   "pygments_lexer": "ipython3",
   "version": "3.10.13"
  }
 },
 "nbformat": 4,
 "nbformat_minor": 5
}
